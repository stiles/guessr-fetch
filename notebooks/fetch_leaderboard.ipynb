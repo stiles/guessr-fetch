{
 "cells": [
  {
   "cell_type": "code",
   "execution_count": 18,
   "id": "0f9ed009-61be-45a9-9202-298d349976b2",
   "metadata": {
    "tags": []
   },
   "outputs": [],
   "source": [
    "import requests\n",
    "import pandas as pd\n",
    "from tqdm import tqdm"
   ]
  },
  {
   "cell_type": "code",
   "execution_count": null,
   "id": "18f788c2",
   "metadata": {},
   "outputs": [],
   "source": [
    "url = 'https://www.geoguessr.com/api/v4/ranked-system/ratings'"
   ]
  },
  {
   "cell_type": "code",
   "execution_count": 46,
   "id": "90c16088-76fb-49c6-9994-698b85bdf873",
   "metadata": {
    "tags": []
   },
   "outputs": [],
   "source": [
    "cookies = {\n",
    "    'g_state': '{\"i_l\":0}',\n",
    "    'devicetoken': '3D7F8EA7E2',\n",
    "    '_sharedID': '16fe0b33-ff11-42e2-a6bd-f61b7d4a196e',\n",
    "    '_lr_env_src_ats': 'false',\n",
    "    '_gcl_au': '1.1.1689402198.1731989212',\n",
    "    '_ga': 'GA1.1.1666971427.1731989212',\n",
    "    '_cc_id': '8941dec17fdc3b20d260929f42f426a0',\n",
    "    '_fbp': 'fb.1.1731989212656.549260285640352059',\n",
    "    '_hjSessionUser_2662791': 'eyJpZCI6ImYzNjEzZTU1LWVhNGEtNTQxNi05ZGEzLWY5YzE2NGQ5ZTJmYiIsImNyZWF0ZWQiOjE3MzE5ODkyMTIyMjksImV4aXN0aW5nIjp0cnVlfQ==',\n",
    "    # 'panoramaId_expiry': '1733880191716',\n",
    "    # 'panoramaId': '32c383b1cff43d709a87af42c2e94945a702250a3c0e3d762c08df4e116d6759',\n",
    "    # 'panoramaIdType': 'panoIndiv',\n",
    "    '_sharedID_cst': 'bCwtLCQsqQ%3D%3D',\n",
    "    '_tracking_consent': '%7B%22con%22%3A%7B%22CMP%22%3A%7B%22a%22%3A%22%22%2C%22m%22%3A%22%22%2C%22p%22%3A%22%22%2C%22s%22%3A%22%22%7D%7D%2C%22v%22%3A%222.1%22%2C%22region%22%3A%22USCA%22%2C%22reg%22%3A%22%22%2C%22purposes%22%3A%7B%22a%22%3Atrue%2C%22p%22%3Atrue%2C%22m%22%3Atrue%2C%22t%22%3Atrue%7D%2C%22display_banner%22%3Afalse%2C%22sale_of_data_region%22%3Atrue%2C%22consent_id%22%3A%2236293976-6f62-4E59-9fc5-72dd202b5e26%22%7D',\n",
    "    '_shopify_y': 'e9e73c99-09b6-4fc9-9037-3478c9af5926',\n",
    "    '_orig_referrer': 'https%3A%2F%2Fwww.geoguessr.com%2F',\n",
    "    '_landing_page': '%2F',\n",
    "    '_cfuvid': '16Kh6iwZ6zNi.TyiuCkaK7qn.GMMBg1zwauYLy2fH6k-1733846293718-0.0.1.1-604800000',\n",
    "    '_sharedID_last': 'Tue%2C%2010%20Dec%202024%2015%3A58%3A14%20GMT',\n",
    "    '_hjSession_2662791': 'eyJpZCI6ImYxNTMxZmUyLWFkODMtNDRhNC04ZDUxLWQ5ODkxZWUzZTAzOCIsImMiOjE3MzM4NDYyOTUxOTUsInMiOjAsInIiOjAsInNiIjowLCJzciI6MCwic2UiOjAsImZzIjowLCJzcCI6MH0=',\n",
    "    'cto_bundle': 'zoBthV9lUyUyQlp1RGxaRjJrYVdKZ1k3UEp2RCUyRmZLeW43U2N3WVNHWnlPQUttZ0pIaDlCbVNxQmdHRHdXYVkzSENwWjNIRlVvQjVvVE5maHBQbmpjOG1mcVZ4OGR2bmRHRWFVbGtBeWFhTVFvQXhXNnpvOGFFUFd5Z2traEVMandlRkc1QjVnTVB2eW5UbWhOV3hNdjl1NW55czl2WnNQV3podEsyN1klMkI5b29oNG5iRzQwMlQ5bzMyOFMwSXV4MFU4SUtGNzRKWE4lMkZSZHhCbWZ3JTJGVzNMb2Y1TGp0UW1RR0NlV2lNTyUyQmlLY3JhMjVIclJPcjdOa2w2dzFyekkxWDdXY0FXMlFsckJlV0RWWkg4VTNkN1YyVzVtYzJSRGNmWElFSlhyZHA1QVhERTN2UkNzQyUyQlZ3MjEwS3F4MGo4Smp6bm4wZVklMkZJWEVEYWRUeWlrT0k0aXhQWDR5M0loWWl2eVpGYnppSVliR2hPQWI2S093JTNE',\n",
    "    '_ncfa': 'Xjw5%2FUE8ppnDr8XuZnUfzXT7Y4RxPhvkmNBmC5A2ZLQ%3DrQuUAODXj7rEMSFHuhhKFScmcCGsw7FK9pEycufnUFUlXwk7inRX%2B2cwlhcRaxvptuVxCAmYV%2Bf2IlvKT%2FeruMlLYoeN6zQ8CzSIdegtmf0%3D',\n",
    "    '_lr_retry_request': 'true',\n",
    "    'session': 'eyJTZXNzaW9uSWQiOiJjcnlsNHpvd3drMmlxNno4dTViczA1bGo0NHJ1YzhldSIsIkV4cGlyZXMiOiIyMDI0LTEyLTEwVDE4OjQxOjE4LjgyNDE0MzVaIn0%3D',\n",
    "    'rndmID': '74274381',\n",
    "    '_ga_D7559MFFX3': 'GS1.1.1733854514.86.1.1733854895.0.0.0',\n",
    "    '_ga_7YENZ2KY0B': 'GS1.1.1733854514.87.1.1733854895.44.0.0',\n",
    "}\n",
    "\n",
    "headers = {\n",
    "    'accept': '*/*',\n",
    "    'accept-language': 'en-US,en;q=0.9,es;q=0.8',\n",
    "    'baggage': 'sentry-environment=prod,sentry-release=471f8b3bcfab9b6111ddbfa81e233e588ea8c259,sentry-public_key=0305c837a48da2755394d00df34f4a91,sentry-trace_id=302b424163004d198573417ef7653904,sentry-sample_rate=0,sentry-transaction=%2Fmultiplayer,sentry-sampled=false',\n",
    "    'content-type': 'application/json',\n",
    "    'priority': 'u=1, i',\n",
    "    'referer': 'https://www.geoguessr.com/multiplayer',\n",
    "    'sec-ch-ua': '\"Google Chrome\";v=\"131\", \"Chromium\";v=\"131\", \"Not_A Brand\";v=\"24\"',\n",
    "    'sec-ch-ua-mobile': '?0',\n",
    "    'sec-ch-ua-platform': '\"macOS\"',\n",
    "    'sec-fetch-dest': 'empty',\n",
    "    'sec-fetch-mode': 'cors',\n",
    "    'sec-fetch-site': 'same-origin',\n",
    "    'sentry-trace': '302b424163004d198573417ef7653904-a94fee02b66d1a9c-0',\n",
    "    'user-agent': 'Mozilla/5.0 (Macintosh; Intel Mac OS X 10_15_7) AppleWebKit/537.36 (KHTML, like Gecko) Chrome/131.0.0.0 Safari/537.36',\n",
    "    'x-client': 'web',\n",
    "}"
   ]
  },
  {
   "cell_type": "code",
   "execution_count": 47,
   "id": "310d34c2-e962-43dc-b7e7-06c5cfc68e94",
   "metadata": {
    "tags": []
   },
   "outputs": [
    {
     "name": "stderr",
     "output_type": "stream",
     "text": [
      "Fetching records: 233page [01:12,  3.23page/s]"
     ]
    },
    {
     "name": "stdout",
     "output_type": "stream",
     "text": [
      "No more records to fetch.\n"
     ]
    },
    {
     "name": "stderr",
     "output_type": "stream",
     "text": [
      "\n"
     ]
    }
   ],
   "source": [
    "# Pagination function\n",
    "def fetch_all_pages(url, cookies, headers, limit=100):\n",
    "    offset = 0\n",
    "    all_records = []\n",
    "    \n",
    "    with tqdm(desc=\"Fetching records\", unit=\"page\") as pbar:\n",
    "        while True:\n",
    "            params = {'offset': str(offset), 'limit': str(limit)}\n",
    "            response = requests.get(url, params=params, cookies=cookies, headers=headers)\n",
    "            \n",
    "            if response.status_code != 200:\n",
    "                print(f\"Error: Received status code {response.status_code}\")\n",
    "                break\n",
    "            \n",
    "            # Parse response\n",
    "            records = response.json()\n",
    "            \n",
    "            if not records:\n",
    "                print(\"No more records to fetch.\")\n",
    "                break\n",
    "            \n",
    "            all_records.extend(records)\n",
    "            offset += limit\n",
    "            pbar.update(1)\n",
    "\n",
    "    return all_records\n",
    "\n",
    "# Fetch all records\n",
    "all_data = fetch_all_pages(url, cookies, headers)"
   ]
  },
  {
   "cell_type": "code",
   "execution_count": 48,
   "id": "d1a83e85-1b6f-4e1f-9593-f8b2adb97731",
   "metadata": {
    "tags": []
   },
   "outputs": [],
   "source": [
    "df = pd.DataFrame(all_data)"
   ]
  },
  {
   "cell_type": "code",
   "execution_count": 49,
   "id": "405f5049-32bb-493f-abd4-a4703e41354f",
   "metadata": {
    "tags": []
   },
   "outputs": [],
   "source": [
    "df.query('nick == \"stiles\"')"
   ]
  },
  {
   "cell_type": "code",
   "execution_count": 50,
   "id": "49648f40-9464-4155-9d18-eb3389b81e7d",
   "metadata": {
    "tags": []
   },
   "outputs": [
    {
     "data": {
      "text/html": [
       "<div>\n",
       "<style scoped>\n",
       "    .dataframe tbody tr th:only-of-type {\n",
       "        vertical-align: middle;\n",
       "    }\n",
       "\n",
       "    .dataframe tbody tr th {\n",
       "        vertical-align: top;\n",
       "    }\n",
       "\n",
       "    .dataframe thead th {\n",
       "        text-align: right;\n",
       "    }\n",
       "</style>\n",
       "<table border=\"1\" class=\"dataframe\">\n",
       "  <thead>\n",
       "    <tr style=\"text-align: right;\">\n",
       "      <th></th>\n",
       "      <th>position</th>\n",
       "      <th>rating</th>\n",
       "      <th>userId</th>\n",
       "      <th>nick</th>\n",
       "      <th>avatar</th>\n",
       "      <th>fullBodyPath</th>\n",
       "      <th>isVerified</th>\n",
       "      <th>isDeleted</th>\n",
       "      <th>flair</th>\n",
       "      <th>countryCode</th>\n",
       "    </tr>\n",
       "  </thead>\n",
       "  <tbody>\n",
       "    <tr>\n",
       "      <th>0</th>\n",
       "      <td>1</td>\n",
       "      <td>2244</td>\n",
       "      <td>57d301d409f2efcce834fc94</td>\n",
       "      <td>Radu C</td>\n",
       "      <td>pin/55eacd62683a0ade2ab54f4f269b57fd.png</td>\n",
       "      <td>pin/95f6f99fba3e5ea937628fddd05c9576.png</td>\n",
       "      <td>True</td>\n",
       "      <td>False</td>\n",
       "      <td>6</td>\n",
       "      <td>us</td>\n",
       "    </tr>\n",
       "    <tr>\n",
       "      <th>1</th>\n",
       "      <td>2</td>\n",
       "      <td>2234</td>\n",
       "      <td>5ffb5e4975d2770001545cf5</td>\n",
       "      <td>apablasbe</td>\n",
       "      <td>pin/cb569ffc6b16d0669f25361a519dc25a.png</td>\n",
       "      <td>pin/9f9eb5994da33e01e79ee83463ee8458.png</td>\n",
       "      <td>False</td>\n",
       "      <td>False</td>\n",
       "      <td>1</td>\n",
       "      <td>gb</td>\n",
       "    </tr>\n",
       "    <tr>\n",
       "      <th>2</th>\n",
       "      <td>3</td>\n",
       "      <td>2204</td>\n",
       "      <td>5bf491faaac55b998458ed9a</td>\n",
       "      <td>mk</td>\n",
       "      <td>pin/faff098bf2ac02e341d10f2c207c5233.png</td>\n",
       "      <td>pin/a0a41189708eff0e72ee0b8a275f3f17.png</td>\n",
       "      <td>True</td>\n",
       "      <td>False</td>\n",
       "      <td>7</td>\n",
       "      <td>us</td>\n",
       "    </tr>\n",
       "    <tr>\n",
       "      <th>3</th>\n",
       "      <td>4</td>\n",
       "      <td>2140</td>\n",
       "      <td>66a56f2cc2261859d8858e3a</td>\n",
       "      <td>草</td>\n",
       "      <td>pin/f9e9883ce7acbd24e8f445994a88e5dd.png</td>\n",
       "      <td>pin/169ef3b3ccb68a466a404807fb92e1ae.png</td>\n",
       "      <td>False</td>\n",
       "      <td>False</td>\n",
       "      <td>0</td>\n",
       "      <td>jp</td>\n",
       "    </tr>\n",
       "    <tr>\n",
       "      <th>4</th>\n",
       "      <td>5</td>\n",
       "      <td>2135</td>\n",
       "      <td>6553e007360ba66e08c0d272</td>\n",
       "      <td>General Tso</td>\n",
       "      <td>pin/384f92451026dd5399de2e69f1601aab.png</td>\n",
       "      <td>pin/4f4d5520e8fa9e2aae8bb26564655aee.png</td>\n",
       "      <td>False</td>\n",
       "      <td>False</td>\n",
       "      <td>0</td>\n",
       "      <td>cn</td>\n",
       "    </tr>\n",
       "  </tbody>\n",
       "</table>\n",
       "</div>"
      ],
      "text/plain": [
       "   position  rating                    userId         nick  \\\n",
       "0         1    2244  57d301d409f2efcce834fc94       Radu C   \n",
       "1         2    2234  5ffb5e4975d2770001545cf5    apablasbe   \n",
       "2         3    2204  5bf491faaac55b998458ed9a           mk   \n",
       "3         4    2140  66a56f2cc2261859d8858e3a            草   \n",
       "4         5    2135  6553e007360ba66e08c0d272  General Tso   \n",
       "\n",
       "                                     avatar  \\\n",
       "0  pin/55eacd62683a0ade2ab54f4f269b57fd.png   \n",
       "1  pin/cb569ffc6b16d0669f25361a519dc25a.png   \n",
       "2  pin/faff098bf2ac02e341d10f2c207c5233.png   \n",
       "3  pin/f9e9883ce7acbd24e8f445994a88e5dd.png   \n",
       "4  pin/384f92451026dd5399de2e69f1601aab.png   \n",
       "\n",
       "                               fullBodyPath  isVerified  isDeleted  flair  \\\n",
       "0  pin/95f6f99fba3e5ea937628fddd05c9576.png        True      False      6   \n",
       "1  pin/9f9eb5994da33e01e79ee83463ee8458.png       False      False      1   \n",
       "2  pin/a0a41189708eff0e72ee0b8a275f3f17.png        True      False      7   \n",
       "3  pin/169ef3b3ccb68a466a404807fb92e1ae.png       False      False      0   \n",
       "4  pin/4f4d5520e8fa9e2aae8bb26564655aee.png       False      False      0   \n",
       "\n",
       "  countryCode  \n",
       "0          us  \n",
       "1          gb  \n",
       "2          us  \n",
       "3          jp  \n",
       "4          cn  "
      ]
     },
     "execution_count": 50,
     "metadata": {},
     "output_type": "execute_result"
    }
   ],
   "source": [
    "df.head()"
   ]
  },
  {
   "cell_type": "code",
   "execution_count": null,
   "id": "2de20d3d-083b-437d-a4c4-c54eea4b66f9",
   "metadata": {},
   "outputs": [],
   "source": []
  }
 ],
 "metadata": {
  "kernelspec": {
   "display_name": "Python 3 (ipykernel)",
   "language": "python",
   "name": "python3"
  },
  "language_info": {
   "codemirror_mode": {
    "name": "ipython",
    "version": 3
   },
   "file_extension": ".py",
   "mimetype": "text/x-python",
   "name": "python",
   "nbconvert_exporter": "python",
   "pygments_lexer": "ipython3",
   "version": "3.9.15"
  }
 },
 "nbformat": 4,
 "nbformat_minor": 5
}
